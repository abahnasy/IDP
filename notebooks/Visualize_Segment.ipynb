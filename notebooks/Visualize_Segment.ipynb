{
 "cells": [
  {
   "cell_type": "code",
   "execution_count": null,
   "metadata": {},
   "outputs": [],
   "source": [
    "import os, sys\n",
    "import tensorflow.compat.v1 as tf\n",
    "sys.path.append('/home/ubuntu/IDP/waymo_open_dataset/')\n",
    "\n",
    "import dataset_pb2 as open_dataset\n",
    "import frame_utils\n",
    "from pyquaternion import Quaternion\n",
    "import numpy as np\n",
    "import matplotlib.pyplot as plt\n",
    "from PIL import Image, ImageDraw"
   ]
  },
  {
   "cell_type": "code",
   "execution_count": null,
   "metadata": {},
   "outputs": [],
   "source": [
    "segment_path = '/home/ubuntu/IDP/waymo_open_dataset/dataset/val/segment-10203656353524179475_7625_000_7645_000_with_camera_labels.tfrecord'\n",
    "if not os.path.exists(segment_path):\n",
    "    raise ValueError('tfrecord for the segment doensn\\'t exist')"
   ]
  },
  {
   "cell_type": "code",
   "execution_count": null,
   "metadata": {},
   "outputs": [],
   "source": [
    "axes_limits = [\n",
    "    [-80, 80], # X axis range\n",
    "    [-80, 80], # Y axis range\n",
    "    [-3, 10]   # Z axis range\n",
    "]\n",
    "axes_str = ['X', 'Y', 'Z']\n",
    "\n",
    "colors = {\n",
    "    0: 'b',\n",
    "    1: 'r',\n",
    "    2: 'g',\n",
    "    3: 'c',\n",
    "    4: 'm'\n",
    "}"
   ]
  },
  {
   "cell_type": "code",
   "execution_count": null,
   "metadata": {},
   "outputs": [],
   "source": [
    "# box = [label, length, width, height, x, y, z, heading]\n",
    "def get_corners_from_labels_array(label, wlh_factor: float = 1.0) -> np.ndarray:\n",
    "    ''' takes 1x8 array contains label information\n",
    "    Args:\n",
    "        np.array 1x8 contains label information [x, y, z, l, w, h, heading, labels]\n",
    "    Returns:\n",
    "    '''\n",
    "    \n",
    "    \n",
    "    length = label[1] * wlh_factor\n",
    "    width = label[2] * wlh_factor\n",
    "    height = label[3] * wlh_factor\n",
    "    \n",
    "    \n",
    "    \n",
    "    # 3D bounding box corners. (Convention: x points forward, y to the left, z up.)\n",
    "    x_corners = length / 2 * np.array([1, 1, 1, 1, -1, -1, -1, -1])\n",
    "    y_corners = width / 2 * np.array([1, -1, -1, 1, 1, -1, -1, 1])\n",
    "    z_corners = height / 2 * np.array([1, 1, -1, -1, 1, 1, -1, -1])\n",
    "    corners = np.vstack((x_corners, y_corners, z_corners))\n",
    "    \n",
    "    orientation = Quaternion(axis=(0.0, 0.0, 1.0), radians=label[7])\n",
    "    \n",
    "    # Rotate\n",
    "    corners = np.dot(orientation.rotation_matrix, corners)\n",
    "    \n",
    "    # Translate\n",
    "    x, y, z = label[4], label[5], label[6]\n",
    "    corners[0, :] = corners[0, :] + x\n",
    "    corners[1, :] = corners[1, :] + y\n",
    "    corners[2, :] = corners[2, :] + z\n",
    "    \n",
    "    return corners"
   ]
  },
  {
   "cell_type": "code",
   "execution_count": null,
   "metadata": {},
   "outputs": [],
   "source": [
    "def draw_box(pyplot_axis, vertices, axes=[0, 1, 2], color='black'):\n",
    "    \"\"\"\n",
    "    Draws a bounding 3D box in a pyplot axis.\n",
    "    \n",
    "    Parameters\n",
    "    ----------\n",
    "    pyplot_axis : Pyplot axis to draw in.\n",
    "    vertices    : Array 8 box vertices containing x, y, z coordinates.\n",
    "    axes        : Axes to use. Defaults to `[0, 1, 2]`, e.g. x, y and z axes.\n",
    "    color       : Drawing color. Defaults to `black`.\n",
    "    \"\"\"\n",
    "    vertices = vertices[axes, :]\n",
    "    connections = [\n",
    "        [0, 1], [1, 2], [2, 3], [3, 0],  # Lower plane parallel to Z=0 plane\n",
    "        [4, 5], [5, 6], [6, 7], [7, 4],  # Upper plane parallel to Z=0 plane\n",
    "        [0, 4], [1, 5], [2, 6], [3, 7]  # Connections between upper and lower planes\n",
    "    ]\n",
    "    for connection in connections:\n",
    "        pyplot_axis.plot(*vertices[:, connection], c=color, lw=0.5)"
   ]
  },
  {
   "cell_type": "code",
   "execution_count": null,
   "metadata": {},
   "outputs": [],
   "source": [
    "def draw_point_cloud(points_all, labels_arr, ax, title, axes=[0, 1], xlim3d=None, ylim3d=None, zlim3d=None):\n",
    "        \"\"\"\n",
    "        Convenient method for drawing various point cloud projections as a part of frame statistics.\n",
    "        \"\"\"\n",
    "        # plot point cloud\n",
    "        ax.scatter(*np.transpose(points_all[:, axes]),s=0.02, cmap='gray')\n",
    "        ax.set_title(title)\n",
    "        ax.set_xlabel('{} axis'.format(axes_str[axes[0]]))\n",
    "        ax.set_ylabel('{} axis'.format(axes_str[axes[1]]))\n",
    "        ax.set_xlim(*axes_limits[axes[0]])\n",
    "        ax.set_ylim(*axes_limits[axes[1]])\n",
    "        # User specified limits\n",
    "        if xlim3d!=None:\n",
    "            ax.set_xlim3d(xlim3d)\n",
    "        if ylim3d!=None:\n",
    "            ax.set_ylim3d(ylim3d)\n",
    "        if zlim3d!=None:\n",
    "            ax.set_zlim3d(zlim3d)\n",
    "            \n",
    "        for i in range(labels_arr.shape[0]):\n",
    "            label_type = labels_arr[i][0] # get label\n",
    "#             box_corners = np.transpose(t[1])\n",
    "#             box_corners = t[1]\n",
    "#             print(box_corners)\n",
    "            box_corners = get_corners_from_labels_array(labels_arr[i])\n",
    "            draw_box(ax, box_corners, axes=axes, color=colors[label_type])\n",
    "#             break"
   ]
  },
  {
   "cell_type": "code",
   "execution_count": null,
   "metadata": {},
   "outputs": [],
   "source": [
    "# Read TFRecord\n",
    "recorded_segment = tf.data.TFRecordDataset(segment_path, compression_type='')\n",
    "# Loop over every frame\n",
    "frames = 0\n",
    "for data in recorded_segment:\n",
    "    # Read the first frame only\n",
    "    frame = open_dataset.Frame()\n",
    "    frame.ParseFromString(bytearray(data.numpy()))\n",
    "\n",
    "    # extract the camera images, camera projection points and range images\n",
    "    (range_images, \n",
    "    camera_projections, \n",
    "    range_image_top_pose) = frame_utils.parse_range_image_and_camera_projection(frame)\n",
    "\n",
    "    # First return of Lidar data\n",
    "    points, cp_points = frame_utils.convert_range_image_to_point_cloud(\n",
    "        frame,\n",
    "        range_images,\n",
    "        camera_projections,\n",
    "        range_image_top_pose)\n",
    "\n",
    "    # concatenate all LIDAR points from the 5 radars.\n",
    "    points_all = np.concatenate(points, axis=0)\n",
    "\n",
    "    bboxes = []\n",
    "    for laser_label in frame.laser_labels:\n",
    "        label = laser_label.type\n",
    "        length = laser_label.box.length\n",
    "        width = laser_label.box.width\n",
    "        height = laser_label.box.height\n",
    "        x, y, z = laser_label.box.center_x, laser_label.box.center_y, laser_label.box.center_z\n",
    "        heading = laser_label.box.heading\n",
    "        box = [label, length, width, height, x, y, z, heading]\n",
    "        bboxes.append(box)\n",
    "        \n",
    "    labels_arr = np.array(bboxes, dtype=np.float32)\n",
    "\n",
    "    # Plotting \n",
    "    f, ax3 = plt.subplots(1, 1, figsize=(25, 25))\n",
    "    draw_point_cloud(points_all, \n",
    "                     labels_arr, \n",
    "                     ax3, \n",
    "                     'Waymo segment, XY projection (Z = 0), the car is moving in direction left to right', \n",
    "                     axes=[0, 1]) # X and Y axes\n",
    "    plt.savefig('_frame_{}_projection.png'.format(frames))\n",
    "    frames += 1\n",
    "    \n",
    "    break #TODO: remove later"
   ]
  },
  {
   "cell_type": "code",
   "execution_count": null,
   "metadata": {},
   "outputs": [],
   "source": [
    "import glob\n",
    "img_list = sorted(glob.glob( '/home/ubuntu/IDP/notebooks' + '/*'+'.png', recursive=True))"
   ]
  },
  {
   "cell_type": "code",
   "execution_count": null,
   "metadata": {},
   "outputs": [],
   "source": [
    "img_list"
   ]
  },
  {
   "cell_type": "code",
   "execution_count": null,
   "metadata": {},
   "outputs": [],
   "source": [
    "images = []\n",
    "for img in img_list:\n",
    "    im = Image.open(img)\n",
    "    images.append(im)"
   ]
  },
  {
   "cell_type": "code",
   "execution_count": null,
   "metadata": {},
   "outputs": [],
   "source": [
    "im.save('out.gif', save_all=True, append_images=images)"
   ]
  },
  {
   "cell_type": "code",
   "execution_count": null,
   "metadata": {},
   "outputs": [],
   "source": []
  }
 ],
 "metadata": {
  "kernelspec": {
   "display_name": "Python 3",
   "language": "python",
   "name": "python3"
  },
  "language_info": {
   "codemirror_mode": {
    "name": "ipython",
    "version": 3
   },
   "file_extension": ".py",
   "mimetype": "text/x-python",
   "name": "python",
   "nbconvert_exporter": "python",
   "pygments_lexer": "ipython3",
   "version": "3.6.9"
  }
 },
 "nbformat": 4,
 "nbformat_minor": 4
}
